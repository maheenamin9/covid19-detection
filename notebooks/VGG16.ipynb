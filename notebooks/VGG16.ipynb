{
  "cells": [
    {
      "cell_type": "markdown",
      "metadata": {
        "id": "ntBv1i5WYmSb"
      },
      "source": [
        "## VGG16 implementation"
      ]
    },
    {
      "cell_type": "markdown",
      "metadata": {
        "id": "HQZRDNeBJG_7"
      },
      "source": [
        "# Import and become one with the data"
      ]
    },
    {
      "cell_type": "code",
      "execution_count": null,
      "metadata": {
        "id": "rvmqCdpZSGOc"
      },
      "outputs": [],
      "source": [
        "import tensorflow as tf\n",
        "import os"
      ]
    },
    {
      "cell_type": "code",
      "execution_count": null,
      "metadata": {
        "colab": {
          "base_uri": "https://localhost:8080/"
        },
        "id": "3Jyfs_rlGKD6",
        "outputId": "64e266dc-92cd-409c-8b8f-e480970fcd31"
      },
      "outputs": [
        {
          "output_type": "stream",
          "name": "stdout",
          "text": [
            "Mounted at /content/drive\n"
          ]
        }
      ],
      "source": [
        "from google.colab import drive\n",
        "drive.mount('/content/drive')"
      ]
    },
    {
      "cell_type": "code",
      "execution_count": null,
      "metadata": {
        "id": "OSmTGSXWEKFc"
      },
      "outputs": [],
      "source": [
        "dataset_path = \"/content/drive/MyDrive/Project dataset/chest X ray subsets.zip\""
      ]
    },
    {
      "cell_type": "code",
      "execution_count": null,
      "metadata": {
        "id": "Lf-7oCDJDjku"
      },
      "outputs": [],
      "source": [
        "import zipfile\n",
        "\n",
        "# Unzip the file\n",
        "zip_ref = zipfile.ZipFile(dataset_path)\n",
        "zip_ref.extractall()\n",
        "zip_ref.close()"
      ]
    },
    {
      "cell_type": "code",
      "execution_count": null,
      "metadata": {
        "colab": {
          "base_uri": "https://localhost:8080/"
        },
        "id": "VJHHoaDEEUAi",
        "outputId": "18b03e74-1dfc-4782-a472-906564e10661"
      },
      "outputs": [
        {
          "output_type": "stream",
          "name": "stdout",
          "text": [
            "There are 3 directories and 0 images in chest X ray subsets\n",
            "There are 2 directories and 0 images in chest X ray subsets/Dataset 1\n",
            "There are 0 directories and 403 images in chest X ray subsets/Dataset 1/Covid-19\n",
            "There are 0 directories and 721 images in chest X ray subsets/Dataset 1/Healthy\n",
            "There are 2 directories and 0 images in chest X ray subsets/Dataset 2\n",
            "There are 0 directories and 3616 images in chest X ray subsets/Dataset 2/Covid-19\n",
            "There are 0 directories and 10192 images in chest X ray subsets/Dataset 2/Healthy\n",
            "There are 3 directories and 0 images in chest X ray subsets/Dataset 3\n",
            "There are 0 directories and 3616 images in chest X ray subsets/Dataset 3/Covid-19\n",
            "There are 0 directories and 1345 images in chest X ray subsets/Dataset 3/Viral Pneumonia\n",
            "There are 0 directories and 10192 images in chest X ray subsets/Dataset 3/Healthy\n"
          ]
        }
      ],
      "source": [
        "import os\n",
        "\n",
        "# Walk through 2 classes of food image data\n",
        "for dirpath, dirnames, filenames in os.walk(\"chest X ray subsets\"):\n",
        "  print(f\"There are {len(dirnames)} directories and {len(filenames)} images in {dirpath}\")"
      ]
    },
    {
      "cell_type": "code",
      "execution_count": null,
      "metadata": {
        "colab": {
          "base_uri": "https://localhost:8080/"
        },
        "id": "GwqV7Oc4DrA5",
        "outputId": "8051f67b-286c-4f6a-ecbf-240610242781"
      },
      "outputs": [
        {
          "output_type": "stream",
          "name": "stdout",
          "text": [
            "Looking in indexes: https://pypi.org/simple, https://us-python.pkg.dev/colab-wheels/public/simple/\n",
            "Collecting split-folders\n",
            "  Downloading split_folders-0.5.1-py3-none-any.whl (8.4 kB)\n",
            "Installing collected packages: split-folders\n",
            "Successfully installed split-folders-0.5.1\n"
          ]
        }
      ],
      "source": [
        "pip install split-folders"
      ]
    },
    {
      "cell_type": "code",
      "execution_count": null,
      "metadata": {
        "id": "sH-oYD_GDtwb"
      },
      "outputs": [],
      "source": [
        "import splitfolders\n",
        "\n",
        "# Split with a ratio.\n",
        "# To only split into training and validation set, set a tuple to `ratio`, i.e, `(.8, .2)`.\n",
        "def split_folders():\n",
        "  splitfolders.ratio(input=input_folder, output=output_folder,\n",
        "    seed=1337, ratio=(.8, .2), group_prefix=None, move=False) # default values"
      ]
    },
    {
      "cell_type": "code",
      "execution_count": null,
      "metadata": {
        "colab": {
          "base_uri": "https://localhost:8080/"
        },
        "id": "22eKrV0LDwOe",
        "outputId": "b9bd93cb-70d2-41e7-d6b4-398552fb8c11"
      },
      "outputs": [
        {
          "output_type": "stream",
          "name": "stderr",
          "text": [
            "Copying files: 1124 files [00:00, 6976.90 files/s]\n"
          ]
        }
      ],
      "source": [
        "# Dataset 1\n",
        "\n",
        "input_folder = \"/content/chest X ray subsets/Dataset 1\"\n",
        "os.mkdir(\"/content/chest X ray subsets/Dataset 1_split\")\n",
        "output_folder = \"/content/chest X ray subsets/Dataset 1_split\"\n",
        "\n",
        "split_folders()"
      ]
    },
    {
      "cell_type": "code",
      "execution_count": null,
      "metadata": {
        "colab": {
          "base_uri": "https://localhost:8080/"
        },
        "id": "qfx3kxkTD0GR",
        "outputId": "7c64ccc7-175c-4e49-ef23-d9d52482cb50"
      },
      "outputs": [
        {
          "output_type": "stream",
          "name": "stderr",
          "text": [
            "Copying files: 13808 files [00:14, 937.88 files/s] \n"
          ]
        }
      ],
      "source": [
        "# Dataset 2\n",
        "\n",
        "input_folder = \"/content/chest X ray subsets/Dataset 2\"\n",
        "os.mkdir(\"/content/chest X ray subsets/Dataset 2_split\")\n",
        "output_folder = \"/content/chest X ray subsets/Dataset 2_split\"\n",
        "\n",
        "split_folders()"
      ]
    },
    {
      "cell_type": "code",
      "execution_count": null,
      "metadata": {
        "id": "At02fuPRD2vf",
        "colab": {
          "base_uri": "https://localhost:8080/"
        },
        "outputId": "1a7199bf-3d70-41a8-bc72-0ac4739ce17b"
      },
      "outputs": [
        {
          "output_type": "stream",
          "name": "stderr",
          "text": [
            "Copying files: 15153 files [00:02, 5370.98 files/s]\n"
          ]
        }
      ],
      "source": [
        "# Dataset 3\n",
        "\n",
        "input_folder = \"/content/chest X ray subsets/Dataset 3\"\n",
        "os.mkdir(\"/content/chest X ray subsets/Dataset 3_split\")\n",
        "output_folder = \"/content/chest X ray subsets/Dataset 3_split\"\n",
        "\n",
        "split_folders()"
      ]
    },
    {
      "cell_type": "code",
      "execution_count": null,
      "metadata": {
        "id": "H2nI5PnAD46e"
      },
      "outputs": [],
      "source": [
        "# Setup the train and test directories for dataset 1\n",
        "train_dir_dataset_1 = \"/content/chest X ray subsets/Dataset 1_split/train/\"\n",
        "test_dir_dataset_1 = \"/content/chest X ray subsets/Dataset 1_split/val/\""
      ]
    },
    {
      "cell_type": "code",
      "execution_count": null,
      "metadata": {
        "id": "EiMHRag3D8BY"
      },
      "outputs": [],
      "source": [
        "# Setup the train and test directories for dataset 2\n",
        "train_dir_dataset_2 = \"/content/chest X ray subsets/Dataset 2_split/train/\"\n",
        "test_dir_dataset_2 = \"/content/chest X ray subsets/Dataset 2_split/val/\""
      ]
    },
    {
      "cell_type": "code",
      "execution_count": 20,
      "metadata": {
        "id": "Pvutg76XD_o8"
      },
      "outputs": [],
      "source": [
        "# Setup the train and test directories for dataset 3\n",
        "train_dir_dataset_3 = \"/content/chest X ray subsets/Dataset 3_split/train/\"\n",
        "test_dir_dataset_3 = \"/content/chest X ray subsets/Dataset 3_split/val/\""
      ]
    },
    {
      "cell_type": "code",
      "execution_count": null,
      "metadata": {
        "colab": {
          "base_uri": "https://localhost:8080/"
        },
        "id": "i21537DrECsK",
        "outputId": "11cfe17f-d99e-41fd-9133-50e76b667a07"
      },
      "outputs": [
        {
          "output_type": "execute_result",
          "data": {
            "text/plain": [
              "array(['Covid-19', 'Healthy', 'Viral Pneumonia'], dtype='<U15')"
            ]
          },
          "metadata": {},
          "execution_count": 11
        }
      ],
      "source": [
        "# Let's get the class names\n",
        "import pathlib\n",
        "import numpy as np\n",
        "dir_path = pathlib.Path(train_dir_dataset_3)\n",
        "class_names = np.array(sorted([item.name for item in dir_path.glob('*')]))\n",
        "class_names"
      ]
    },
    {
      "cell_type": "markdown",
      "metadata": {
        "id": "u4l4qe5dJark"
      },
      "source": [
        "## Preparation of data"
      ]
    },
    {
      "cell_type": "code",
      "execution_count": null,
      "metadata": {
        "id": "mg5KNxNSEN13"
      },
      "outputs": [],
      "source": [
        "from tensorflow.keras.preprocessing.image import ImageDataGenerator\n",
        "\n",
        "# From ImageDataGenerator, we are preprocessing and augmenting our data\n",
        "train_datagen = ImageDataGenerator(rescale=1/255)\n",
        "test_datagen = ImageDataGenerator(rescale=1/255)"
      ]
    },
    {
      "cell_type": "markdown",
      "metadata": {
        "id": "kHHcYICKJi6d"
      },
      "source": [
        "### Loading the images into data loaders"
      ]
    },
    {
      "cell_type": "code",
      "execution_count": null,
      "metadata": {
        "id": "85H3oqNWEP8Z"
      },
      "outputs": [],
      "source": [
        "# Dataset 1\n",
        "\n",
        "train_dir = train_dir_dataset_1\n",
        "test_dir = test_dir_dataset_1"
      ]
    },
    {
      "cell_type": "code",
      "execution_count": null,
      "metadata": {
        "id": "921d-bO_ESR4"
      },
      "outputs": [],
      "source": [
        "# Dataset 2\n",
        "\n",
        "train_dir = train_dir_dataset_2\n",
        "test_dir = test_dir_dataset_2"
      ]
    },
    {
      "cell_type": "code",
      "execution_count": null,
      "metadata": {
        "id": "G7a_K0ndES38"
      },
      "outputs": [],
      "source": [
        "# Dataset 3\n",
        "\n",
        "train_dir = train_dir_dataset_3\n",
        "test_dir = test_dir_dataset_3"
      ]
    },
    {
      "cell_type": "code",
      "execution_count": null,
      "metadata": {
        "colab": {
          "base_uri": "https://localhost:8080/"
        },
        "id": "VA6Ts0_0EmOx",
        "outputId": "5cd892e6-e709-40dd-c2f2-b8174adc8b05"
      },
      "outputs": [
        {
          "output_type": "stream",
          "name": "stdout",
          "text": [
            "Training images:\n",
            "Found 12121 images belonging to 3 classes.\n",
            "Testing images:\n",
            "Found 3032 images belonging to 3 classes.\n"
          ]
        }
      ],
      "source": [
        "# Setup data inputs\n",
        "\n",
        "img_width = 224\n",
        "img_height = 224\n",
        "batch_size = 32\n",
        "\n",
        "print(\"Training images:\")\n",
        "train_data = train_datagen.flow_from_directory(train_dir,\n",
        "                                               target_size=(img_width, img_height),\n",
        "                                               batch_size=batch_size,\n",
        "                                               #class_mode=\"binary\",\n",
        "                                               class_mode=\"categorical\",\n",
        "                                               color_mode='grayscale',\n",
        "                                               shuffle=True)  # shuffling between normal and covid\n",
        "\n",
        "print(\"Testing images:\")\n",
        "test_data = test_datagen.flow_from_directory(test_dir,\n",
        "                                             target_size=(img_width, img_height),\n",
        "                                             batch_size=batch_size,\n",
        "                                             #class_mode=\"binary\",\n",
        "                                             class_mode=\"categorical\",\n",
        "                                             color_mode='grayscale',\n",
        "                                             shuffle=False)   # No need to shuffle data"
      ]
    },
    {
      "cell_type": "markdown",
      "metadata": {
        "id": "lvJZdURfJsBm"
      },
      "source": [
        "## Create a model (start with a baseline)"
      ]
    },
    {
      "cell_type": "code",
      "execution_count": null,
      "metadata": {
        "id": "qRiKrdHvFMpp"
      },
      "outputs": [],
      "source": [
        "# import tensorflow_hub as hub from tensorflow.keras import layers\n",
        "import keras,os\n",
        "from keras.models import Sequential\n",
        "from keras.layers import Dense, Conv2D, MaxPool2D , Flatten\n",
        "from keras.preprocessing.image import ImageDataGenerator\n",
        "import numpy as np"
      ]
    },
    {
      "cell_type": "code",
      "execution_count": null,
      "metadata": {
        "id": "rEqaZGHnFQrl"
      },
      "outputs": [],
      "source": [
        "# Architecture of VGG16:\n",
        "model= Sequential()\n",
        "model.add(Conv2D(input_shape=(224,224,1),filters=64,kernel_size=(3,3),padding=\"same\", activation=\"relu\"))\n",
        "model.add(Conv2D(filters=64,kernel_size=(3,3),padding=\"same\", activation=\"relu\"))\n",
        "model.add(MaxPool2D(pool_size=(2,2),strides=(2,2)))\n",
        "model.add(Conv2D(filters=128, kernel_size=(3,3), padding=\"same\", activation=\"relu\"))\n",
        "model.add(Conv2D(filters=128, kernel_size=(3,3), padding=\"same\", activation=\"relu\"))\n",
        "model.add(MaxPool2D(pool_size=(2,2),strides=(2,2)))\n",
        "model.add(Conv2D(filters=256, kernel_size=(3,3), padding=\"same\", activation=\"relu\"))\n",
        "model.add(Conv2D(filters=256, kernel_size=(3,3), padding=\"same\", activation=\"relu\"))\n",
        "model.add(Conv2D(filters=256, kernel_size=(3,3), padding=\"same\", activation=\"relu\"))\n",
        "model.add(MaxPool2D(pool_size=(2,2),strides=(2,2)))\n",
        "model.add(Conv2D(filters=512, kernel_size=(3,3), padding=\"same\", activation=\"relu\"))\n",
        "model.add(Conv2D(filters=512, kernel_size=(3,3), padding=\"same\", activation=\"relu\"))\n",
        "model.add(Conv2D(filters=512, kernel_size=(3,3), padding=\"same\", activation=\"relu\"))\n",
        "model.add(MaxPool2D(pool_size=(2,2),strides=(2,2)))\n",
        "model.add(Conv2D(filters=512, kernel_size=(3,3), padding=\"same\", activation=\"relu\"))\n",
        "model.add(Conv2D(filters=512, kernel_size=(3,3), padding=\"same\", activation=\"relu\"))\n",
        "model.add(Conv2D(filters=512, kernel_size=(3,3), padding=\"same\", activation=\"relu\"))\n",
        "model.add(MaxPool2D(pool_size=(2,2),strides=(2,2)))\n",
        "\n",
        "model.add(Flatten())\n",
        "model.add(Dense(units=4096,activation=\"relu\"))\n",
        "model.add(Dense(units=4096,activation=\"relu\"))\n",
        "model.add(Dense(units=3, activation=\"softmax\"))   # units and activation change accordingly"
      ]
    },
    {
      "cell_type": "code",
      "execution_count": null,
      "metadata": {
        "id": "zQ_BMdydFT9_"
      },
      "outputs": [],
      "source": [
        "# Model's Compilation for binary\n",
        "\n",
        "model.compile(loss=\"binary_crossentropy\",\n",
        "              optimizer=tf.keras.optimizers.Adam(learning_rate=0.0001),\n",
        "              metrics=[\"accuracy\"])"
      ]
    },
    {
      "cell_type": "code",
      "execution_count": null,
      "metadata": {
        "id": "A7z2IkOpN38u"
      },
      "outputs": [],
      "source": [
        "# Model's Compilation for categorical\n",
        "\n",
        "model.compile(loss=\"categorical_crossentropy\",\n",
        "              optimizer=tf.keras.optimizers.Adam(learning_rate=0.0001),\n",
        "              metrics=[\"accuracy\"])"
      ]
    },
    {
      "cell_type": "markdown",
      "metadata": {
        "id": "l5HnNre9J7JE"
      },
      "source": [
        "### Fit a model"
      ]
    },
    {
      "cell_type": "code",
      "execution_count": null,
      "metadata": {
        "id": "niIWU1aFFcMX"
      },
      "outputs": [],
      "source": [
        "# Model's training\n",
        "epochs = 10"
      ]
    },
    {
      "cell_type": "code",
      "execution_count": null,
      "metadata": {
        "id": "RcmHPmsRFRr7",
        "colab": {
          "base_uri": "https://localhost:8080/"
        },
        "outputId": "8cc2a9c8-56b8-4fb3-9579-5250e43b7e77"
      },
      "outputs": [
        {
          "output_type": "stream",
          "name": "stdout",
          "text": [
            "Epoch 1/10\n",
            "29/29 [==============================] - 33s 508ms/step - loss: 0.6800 - accuracy: 0.6370 - val_loss: 0.6247 - val_accuracy: 0.6416\n",
            "Epoch 2/10\n",
            "29/29 [==============================] - 13s 444ms/step - loss: 0.3753 - accuracy: 0.8330 - val_loss: 0.2621 - val_accuracy: 0.8894\n",
            "Epoch 3/10\n",
            "29/29 [==============================] - 13s 447ms/step - loss: 0.2513 - accuracy: 0.9176 - val_loss: 0.2549 - val_accuracy: 0.8850\n",
            "Epoch 4/10\n",
            "29/29 [==============================] - 13s 450ms/step - loss: 0.2244 - accuracy: 0.9143 - val_loss: 0.1976 - val_accuracy: 0.9336\n",
            "Epoch 5/10\n",
            "29/29 [==============================] - 13s 454ms/step - loss: 0.2523 - accuracy: 0.8920 - val_loss: 0.3834 - val_accuracy: 0.8230\n",
            "Epoch 6/10\n",
            "29/29 [==============================] - 13s 467ms/step - loss: 0.2807 - accuracy: 0.9098 - val_loss: 0.2241 - val_accuracy: 0.9204\n",
            "Epoch 7/10\n",
            "29/29 [==============================] - 13s 458ms/step - loss: 0.2092 - accuracy: 0.9332 - val_loss: 0.2225 - val_accuracy: 0.9204\n",
            "Epoch 8/10\n",
            "29/29 [==============================] - 13s 463ms/step - loss: 0.1522 - accuracy: 0.9465 - val_loss: 0.1852 - val_accuracy: 0.9336\n",
            "Epoch 9/10\n",
            "29/29 [==============================] - 14s 466ms/step - loss: 0.1540 - accuracy: 0.9543 - val_loss: 0.1719 - val_accuracy: 0.9336\n",
            "Epoch 10/10\n",
            "29/29 [==============================] - 14s 467ms/step - loss: 0.1146 - accuracy: 0.9555 - val_loss: 0.1815 - val_accuracy: 0.9425\n",
            "Total training time for  10  epochs:  153 seconds/ 3  minutes\n"
          ]
        }
      ],
      "source": [
        "# Dataset 1\n",
        "\n",
        "# Fit the model\n",
        "\n",
        "import time\n",
        "start = time.time()\n",
        "history_1 = model.fit(train_data,\n",
        "                      epochs=epochs,\n",
        "                      steps_per_epoch=len(train_data),\n",
        "                      validation_data=test_data,\n",
        "                      validation_steps=len(test_data))\n",
        "\n",
        "end = time.time()\n",
        "print(\"Total training time for \", epochs, \" epochs: \" , round(end - start), \"seconds/\", round((end - start)/60) , \" minutes\")"
      ]
    },
    {
      "cell_type": "code",
      "execution_count": null,
      "metadata": {
        "id": "BYp0NP_QHpJm",
        "colab": {
          "base_uri": "https://localhost:8080/"
        },
        "outputId": "7fd073f2-91ad-4d4a-e361-25e3ff4e0b8c"
      },
      "outputs": [
        {
          "output_type": "stream",
          "name": "stdout",
          "text": [
            "Epoch 1/10\n",
            "346/346 [==============================] - 170s 489ms/step - loss: 0.3612 - accuracy: 0.8438 - val_loss: 0.2224 - val_accuracy: 0.9131\n",
            "Epoch 2/10\n",
            "346/346 [==============================] - 172s 496ms/step - loss: 0.1798 - accuracy: 0.9311 - val_loss: 0.1540 - val_accuracy: 0.9446\n",
            "Epoch 3/10\n",
            "346/346 [==============================] - 171s 495ms/step - loss: 0.1320 - accuracy: 0.9504 - val_loss: 0.1508 - val_accuracy: 0.9453\n",
            "Epoch 4/10\n",
            "346/346 [==============================] - 171s 494ms/step - loss: 0.0995 - accuracy: 0.9612 - val_loss: 0.1590 - val_accuracy: 0.9301\n",
            "Epoch 5/10\n",
            "346/346 [==============================] - 170s 492ms/step - loss: 0.0787 - accuracy: 0.9721 - val_loss: 0.1139 - val_accuracy: 0.9595\n",
            "Epoch 6/10\n",
            "346/346 [==============================] - 169s 490ms/step - loss: 0.0587 - accuracy: 0.9793 - val_loss: 0.0861 - val_accuracy: 0.9707\n",
            "Epoch 7/10\n",
            "346/346 [==============================] - 169s 489ms/step - loss: 0.0403 - accuracy: 0.9846 - val_loss: 0.0916 - val_accuracy: 0.9703\n",
            "Epoch 8/10\n",
            "346/346 [==============================] - 169s 487ms/step - loss: 0.0429 - accuracy: 0.9840 - val_loss: 0.1247 - val_accuracy: 0.9674\n",
            "Epoch 9/10\n",
            "346/346 [==============================] - 168s 485ms/step - loss: 0.0306 - accuracy: 0.9892 - val_loss: 0.1259 - val_accuracy: 0.9602\n",
            "Epoch 10/10\n",
            "346/346 [==============================] - 167s 483ms/step - loss: 0.0223 - accuracy: 0.9919 - val_loss: 0.1189 - val_accuracy: 0.9660\n",
            "Total training time for  10  epochs:  1732 seconds/ 29  minutes\n"
          ]
        }
      ],
      "source": [
        "# Dataset 2\n",
        "\n",
        "# Fit the model\n",
        "\n",
        "import time\n",
        "start = time.time()\n",
        "\n",
        "history_2 = model.fit(train_data,\n",
        "                      epochs=epochs,\n",
        "                      steps_per_epoch=len(train_data),\n",
        "                      validation_data=test_data,\n",
        "                      validation_steps=len(test_data))\n",
        "\n",
        "end = time.time()\n",
        "print(\"Total training time for \", epochs, \" epochs: \" , round(end - start), \"seconds/\", round((end - start)/60) , \" minutes\")"
      ]
    },
    {
      "cell_type": "code",
      "execution_count": 19,
      "metadata": {
        "id": "vAsz0pabHqrZ",
        "colab": {
          "base_uri": "https://localhost:8080/"
        },
        "outputId": "9476d1ed-425f-4045-9c9c-5ec2b5938abb"
      },
      "outputs": [
        {
          "output_type": "stream",
          "name": "stdout",
          "text": [
            "Epoch 1/10\n",
            "379/379 [==============================] - 208s 495ms/step - loss: 0.5501 - accuracy: 0.7669 - val_loss: 0.3564 - val_accuracy: 0.8509\n",
            "Epoch 2/10\n",
            "379/379 [==============================] - 183s 482ms/step - loss: 0.2446 - accuracy: 0.9063 - val_loss: 0.2678 - val_accuracy: 0.8948\n",
            "Epoch 3/10\n",
            "379/379 [==============================] - 182s 480ms/step - loss: 0.1709 - accuracy: 0.9386 - val_loss: 0.1533 - val_accuracy: 0.9459\n",
            "Epoch 4/10\n",
            "379/379 [==============================] - 182s 480ms/step - loss: 0.1297 - accuracy: 0.9536 - val_loss: 0.1207 - val_accuracy: 0.9545\n",
            "Epoch 5/10\n",
            "379/379 [==============================] - 182s 479ms/step - loss: 0.1026 - accuracy: 0.9632 - val_loss: 0.1169 - val_accuracy: 0.9565\n",
            "Epoch 6/10\n",
            "379/379 [==============================] - 182s 480ms/step - loss: 0.0827 - accuracy: 0.9702 - val_loss: 0.1279 - val_accuracy: 0.9584\n",
            "Epoch 7/10\n",
            "379/379 [==============================] - 182s 479ms/step - loss: 0.0713 - accuracy: 0.9762 - val_loss: 0.1094 - val_accuracy: 0.9575\n",
            "Epoch 8/10\n",
            "379/379 [==============================] - 182s 479ms/step - loss: 0.0571 - accuracy: 0.9789 - val_loss: 0.1064 - val_accuracy: 0.9624\n",
            "Epoch 9/10\n",
            "379/379 [==============================] - 181s 479ms/step - loss: 0.0437 - accuracy: 0.9852 - val_loss: 0.1488 - val_accuracy: 0.9611\n",
            "Epoch 10/10\n",
            "379/379 [==============================] - 181s 478ms/step - loss: 0.0351 - accuracy: 0.9875 - val_loss: 0.1272 - val_accuracy: 0.9627\n",
            "Total training time for  10  epochs:  1865 seconds/ 31  minutes\n"
          ]
        }
      ],
      "source": [
        "# Dataset 3\n",
        "\n",
        "# Fit the model\n",
        "\n",
        "import time\n",
        "start = time.time()\n",
        "\n",
        "history_3 = model.fit(train_data,\n",
        "                      epochs=epochs,\n",
        "                      steps_per_epoch=len(train_data),\n",
        "                      validation_data=test_data,\n",
        "                      validation_steps=len(test_data))\n",
        "\n",
        "end = time.time()\n",
        "print(\"Total training time for \", epochs, \" epochs: \" , round(end - start), \"seconds/\", round((end - start)/60) , \" minutes\")"
      ]
    },
    {
      "cell_type": "markdown",
      "metadata": {
        "id": "yFLOJTTrKGtA"
      },
      "source": [
        "## Saving the models (say for later use)"
      ]
    },
    {
      "cell_type": "code",
      "execution_count": 22,
      "metadata": {
        "id": "VnHW_-DTKLG5"
      },
      "outputs": [],
      "source": [
        "# Save the entire model to a HDF5 file.\n",
        "# The '.h5' extension indicates that the model should be saved to HDF5.\n",
        "\n",
        "# change accordingly\n",
        "#model.save('/content/VGG16_model_1.h5')\n",
        "#model.save('/content/VGG16_model_2.h5')\n",
        "model.save('/content/VGG16_model_3.h5')"
      ]
    },
    {
      "cell_type": "markdown",
      "metadata": {
        "id": "jKcSZ6F4KTxX"
      },
      "source": [
        "## Evaulate the model"
      ]
    },
    {
      "cell_type": "code",
      "execution_count": null,
      "metadata": {
        "id": "aZrw4AcGHQqu",
        "colab": {
          "base_uri": "https://localhost:8080/"
        },
        "outputId": "d699c3df-3550-4ca1-aeac-e2e8c048b14b"
      },
      "outputs": [
        {
          "output_type": "stream",
          "name": "stdout",
          "text": [
            "8/8 [==============================] - 1s 131ms/step - loss: 0.1815 - accuracy: 0.9425\n"
          ]
        },
        {
          "output_type": "execute_result",
          "data": {
            "text/plain": [
              "[0.18147820234298706, 0.9424778819084167]"
            ]
          },
          "metadata": {},
          "execution_count": 21
        }
      ],
      "source": [
        "# Dataset 1\n",
        "\n",
        "# Evaluate on test data\n",
        "model.evaluate(test_data)"
      ]
    },
    {
      "cell_type": "code",
      "execution_count": null,
      "metadata": {
        "id": "XPuWu_72Hz4p",
        "colab": {
          "base_uri": "https://localhost:8080/"
        },
        "outputId": "a89e7bb4-eaef-469b-d83d-b03cf1b0b894"
      },
      "outputs": [
        {
          "output_type": "stream",
          "name": "stdout",
          "text": [
            "87/87 [==============================] - 14s 154ms/step - loss: 0.1189 - accuracy: 0.9660\n"
          ]
        },
        {
          "output_type": "execute_result",
          "data": {
            "text/plain": [
              "[0.11885937303304672, 0.9659789800643921]"
            ]
          },
          "metadata": {},
          "execution_count": 39
        }
      ],
      "source": [
        "# Dataset 2\n",
        "\n",
        "# Evaluate on test data\n",
        "model.evaluate(test_data)"
      ]
    },
    {
      "cell_type": "code",
      "execution_count": 21,
      "metadata": {
        "id": "7qH0lpR2H0c_",
        "colab": {
          "base_uri": "https://localhost:8080/"
        },
        "outputId": "e8cfe035-d41b-4fff-999e-fe69a99d7e5d"
      },
      "outputs": [
        {
          "output_type": "stream",
          "name": "stdout",
          "text": [
            "95/95 [==============================] - 17s 182ms/step - loss: 0.1272 - accuracy: 0.9627\n"
          ]
        },
        {
          "output_type": "execute_result",
          "data": {
            "text/plain": [
              "[0.12724284827709198, 0.962730884552002]"
            ]
          },
          "metadata": {},
          "execution_count": 21
        }
      ],
      "source": [
        "# Dataset 3\n",
        "\n",
        "# Evaluate on test data\n",
        "model.evaluate(test_data)"
      ]
    },
    {
      "cell_type": "markdown",
      "metadata": {
        "id": "XZjnzQbLMRSM"
      },
      "source": [
        "### Confusion matrix"
      ]
    },
    {
      "cell_type": "code",
      "execution_count": null,
      "metadata": {
        "id": "PAyuarxuLsQw"
      },
      "outputs": [],
      "source": [
        "# Lets make function for y_preds\n",
        "def model_pred(model):\n",
        "  pred_probs = tf.round(model.predict(test_data))\n",
        "  y_preds = tf.reshape(pred_probs, [-1])\n",
        "  y_preds = np.array(y_preds).astype(int)\n",
        "  return y_preds"
      ]
    },
    {
      "cell_type": "code",
      "execution_count": null,
      "metadata": {
        "id": "3gcaL9WULuNt"
      },
      "outputs": [],
      "source": [
        "y_preds = model_pred(model = model)"
      ]
    },
    {
      "cell_type": "code",
      "execution_count": null,
      "metadata": {
        "colab": {
          "base_uri": "https://localhost:8080/"
        },
        "id": "PjXPO5OrLlsK",
        "outputId": "99357487-a621-4108-c978-28bd57a8b2b7"
      },
      "outputs": [
        {
          "output_type": "execute_result",
          "data": {
            "text/plain": [
              "array([0, 0, 0, 0, 0, 0, 0, 0, 0, 0])"
            ]
          },
          "metadata": {},
          "execution_count": 42
        }
      ],
      "source": [
        "import math\n",
        "n=32\n",
        "number_of_examples = len(test_data.filenames)\n",
        "number_of_generator_calls = math.ceil(number_of_examples / (1.0 * n)) \n",
        "# 1.0 above is to skip integer division\n",
        "\n",
        "test_labels = []\n",
        "\n",
        "for i in range(0,int(number_of_generator_calls)):\n",
        "    test_labels.extend(np.array(test_data[i][1]))\n",
        "  \n",
        "\n",
        "test_labels = np.array(test_labels).astype(int)\n",
        "test_labels[:10]"
      ]
    },
    {
      "cell_type": "code",
      "execution_count": null,
      "metadata": {
        "colab": {
          "base_uri": "https://localhost:8080/"
        },
        "id": "hLv_ok0zFfXs",
        "outputId": "b61776a1-443d-416f-d9e7-6384b721787a"
      },
      "outputs": [
        {
          "output_type": "execute_result",
          "data": {
            "text/plain": [
              "array([[ 703,   21],\n",
              "       [  73, 1966]])"
            ]
          },
          "metadata": {},
          "execution_count": 43
        }
      ],
      "source": [
        "from sklearn.metrics import confusion_matrix\n",
        "confusion_matrix(test_labels, y_preds)"
      ]
    },
    {
      "cell_type": "code",
      "execution_count": null,
      "metadata": {
        "id": "ZyLgAtKbM7GG"
      },
      "outputs": [],
      "source": [
        "# Note: The following confusion matrix code is a remix of Scikit-Learn's \n",
        "# plot_confusion_matrix function - https://scikit-learn.org/stable/modules/generated/sklearn.metrics.plot_confusion_matrix.html\n",
        "import itertools\n",
        "import matplotlib.pyplot as plt\n",
        "import numpy as np\n",
        "from sklearn.metrics import confusion_matrix\n",
        "\n",
        "# Our function needs a different name to sklearn's plot_confusion_matrix\n",
        "def make_confusion_matrix(y_true, y_pred, classes=None, figsize=(10, 10), text_size=15, norm=False, savefig=False): \n",
        "  \"\"\"Makes a labelled confusion matrix comparing predictions and ground truth labels.\n",
        "\n",
        "  If classes is passed, confusion matrix will be labelled, if not, integer class values\n",
        "  will be used.\n",
        "\n",
        "  Args:\n",
        "    y_true: Array of truth labels (must be same shape as y_pred).\n",
        "    y_pred: Array of predicted labels (must be same shape as y_true).\n",
        "    classes: Array of class labels (e.g. string form). If `None`, integer labels are used.\n",
        "    figsize: Size of output figure (default=(10, 10)).\n",
        "    text_size: Size of output figure text (default=15).\n",
        "    norm: normalize values or not (default=False).\n",
        "    savefig: save confusion matrix to file (default=False).\n",
        "  \n",
        "  Returns:\n",
        "    A labelled confusion matrix plot comparing y_true and y_pred.\n",
        "\n",
        "  Example usage:\n",
        "    make_confusion_matrix(y_true=test_labels, # ground truth test labels\n",
        "                          y_pred=y_preds, # predicted labels\n",
        "                          classes=class_names, # array of class label names\n",
        "                          figsize=(15, 15),\n",
        "                          text_size=10)\n",
        "  \"\"\"  \n",
        "  # Create the confustion matrix\n",
        "  cm = confusion_matrix(y_true, y_pred)\n",
        "  cm_norm = cm.astype(\"float\") / cm.sum(axis=1)[:, np.newaxis] # normalize it\n",
        "  n_classes = cm.shape[0] # find the number of classes we're dealing with\n",
        "\n",
        "  # Plot the figure and make it pretty\n",
        "  fig, ax = plt.subplots(figsize=figsize)\n",
        "  cax = ax.matshow(cm, cmap=plt.cm.Blues) # colors will represent how 'correct' a class is, darker == better\n",
        "  fig.colorbar(cax)\n",
        "\n",
        "  # Are there a list of classes?\n",
        "  if classes:\n",
        "    labels = classes\n",
        "  else:\n",
        "    labels = np.arange(cm.shape[0])\n",
        "  \n",
        "  # Label the axes\n",
        "  ax.set(title=\"Confusion Matrix\",\n",
        "         xlabel=\"Predicted label\",\n",
        "         ylabel=\"True label\",\n",
        "         xticks=np.arange(n_classes), # create enough axis slots for each class\n",
        "         yticks=np.arange(n_classes), \n",
        "         xticklabels=labels, # axes will labeled with class names (if they exist) or ints\n",
        "         yticklabels=labels)\n",
        "  \n",
        "  # Make x-axis labels appear on bottom\n",
        "  ax.xaxis.set_label_position(\"bottom\")\n",
        "  ax.xaxis.tick_bottom()\n",
        "\n",
        "  ### Added: Rotate xticks for readability & increase font size (required due to such a large confusion matrix)\n",
        "  plt.xticks(rotation=70, fontsize=text_size)\n",
        "  plt.yticks(fontsize=text_size)\n",
        "\n",
        "  # Set the threshold for different colors\n",
        "  threshold = (cm.max() + cm.min()) / 2.\n",
        "\n",
        "  # Plot the text on each cell\n",
        "  for i, j in itertools.product(range(cm.shape[0]), range(cm.shape[1])):\n",
        "    if norm:\n",
        "      plt.text(j, i, f\"{cm[i, j]} ({cm_norm[i, j]*100:.1f}%)\",\n",
        "              horizontalalignment=\"center\",\n",
        "              color=\"white\" if cm[i, j] > threshold else \"black\",\n",
        "              size=text_size)\n",
        "    else:\n",
        "      plt.text(j, i, f\"{cm[i, j]}\",\n",
        "              horizontalalignment=\"center\",\n",
        "              color=\"white\" if cm[i, j] > threshold else \"black\",\n",
        "              size=text_size)\n",
        "\n",
        "  # Save the figure to the current working directory\n",
        "  if savefig:\n",
        "    fig.savefig(\"confusion_matrix.png\")"
      ]
    },
    {
      "cell_type": "code",
      "execution_count": null,
      "metadata": {
        "colab": {
          "base_uri": "https://localhost:8080/",
          "height": 786
        },
        "id": "RQZXw1dBM-cR",
        "outputId": "d4d2ce49-fa8c-4524-fdf9-db11d0eb2bad"
      },
      "outputs": [
        {
          "output_type": "display_data",
          "data": {
            "text/plain": [
              "<Figure size 936x936 with 2 Axes>"
            ],
            "image/png": "[encoded data removed]"
          },
          "metadata": {
            "needs_background": "light"
          }
        }
      ],
      "source": [
        "# Plot a confusion matrix for dataset 1\n",
        "\n",
        "make_confusion_matrix(y_true=test_labels,\n",
        "                      y_pred=y_preds,\n",
        "                      classes=['Covid-19', 'Healthy'],\n",
        "                      figsize=(13, 13),\n",
        "                      text_size=20,\n",
        "                      norm=False,\n",
        "                      savefig=True)"
      ]
    },
    {
      "cell_type": "code",
      "execution_count": null,
      "metadata": {
        "id": "gjmC8UVENQvo",
        "colab": {
          "base_uri": "https://localhost:8080/",
          "height": 786
        },
        "outputId": "225d737d-1cc8-4b37-b726-5dd6edf903b1"
      },
      "outputs": [
        {
          "output_type": "display_data",
          "data": {
            "text/plain": [
              "<Figure size 936x936 with 2 Axes>"
            ],
            "image/png": "[encoded data removed]"
          },
          "metadata": {
            "needs_background": "light"
          }
        }
      ],
      "source": [
        "# Plot a confusion matrix for dataset 2\n",
        "\n",
        "make_confusion_matrix(y_true=test_labels,\n",
        "                      y_pred=y_preds,\n",
        "                      classes=['Covid-19', 'Healthy'],\n",
        "                      figsize=(13, 13),\n",
        "                      text_size=20,\n",
        "                      norm=False,\n",
        "                      savefig=True)"
      ]
    },
    {
      "cell_type": "code",
      "execution_count": null,
      "metadata": {
        "id": "CijwAqEPPnHN"
      },
      "outputs": [],
      "source": [
        "# If you wanted to, you could really turn this into a helper function to load in with a helper.py script...\n",
        "import matplotlib.pyplot as plt\n",
        "\n",
        "# Plot the validation and training data separately\n",
        "def plot_loss_curves(history):\n",
        "  \"\"\"\n",
        "  Returns separate loss curves for training and validation metrics.\n",
        "  \"\"\" \n",
        "  loss = history.history['loss']\n",
        "  val_loss = history.history['val_loss']\n",
        "\n",
        "  accuracy = history.history['accuracy']\n",
        "  val_accuracy = history.history['val_accuracy']\n",
        "\n",
        "  epochs = range(len(history.history['loss']))\n",
        "\n",
        "  # Plot loss\n",
        "  plt.figure(figsize=(17, 7))\n",
        "  plt.subplot(1, 2, 1)\n",
        "  plt.plot(epochs, loss, label='training_loss')\n",
        "  plt.plot(epochs, val_loss, label='val_loss')\n",
        "  plt.title('Loss')\n",
        "  plt.xlabel('Epochs')\n",
        "  plt.legend()\n",
        "\n",
        "  # Plot accuracy\n",
        "  plt.subplot(1, 2, 2)\n",
        "  plt.plot(epochs, accuracy, label='training_accuracy')\n",
        "  plt.plot(epochs, val_accuracy, label='val_accuracy')\n",
        "  plt.title('Accuracy')\n",
        "  plt.xlabel('Epochs')\n",
        "  plt.legend();"
      ]
    },
    {
      "cell_type": "code",
      "execution_count": null,
      "metadata": {
        "colab": {
          "base_uri": "https://localhost:8080/",
          "height": 458
        },
        "id": "VlE1uf6_QDl9",
        "outputId": "589a10e4-9fcb-4585-e815-2ffec76f51ba"
      },
      "outputs": [
        {
          "output_type": "display_data",
          "data": {
            "text/plain": [
              "<Figure size 1224x504 with 2 Axes>"
            ],
            "image/png": "[encoded data removed]"
          },
          "metadata": {
            "needs_background": "light"
          }
        }
      ],
      "source": [
        "# Visualization:\n",
        "plot_loss_curves(history=history_1)"
      ]
    },
    {
      "cell_type": "code",
      "source": [
        "# Visualization:\n",
        "plot_loss_curves(history=history_2)"
      ],
      "metadata": {
        "id": "vRgiMExU4yyr",
        "colab": {
          "base_uri": "https://localhost:8080/",
          "height": 458
        },
        "outputId": "9ce31daf-77c8-4be9-c77b-87e3e577902b"
      },
      "execution_count": null,
      "outputs": [
        {
          "output_type": "display_data",
          "data": {
            "text/plain": [
              "<Figure size 1224x504 with 2 Axes>"
            ],
            "image/png": "[encoded data removed]"
          },
          "metadata": {
            "needs_background": "light"
          }
        }
      ]
    },
    {
      "cell_type": "code",
      "source": [
        "# Visualization:\n",
        "plot_loss_curves(history=history_3)"
      ],
      "metadata": {
        "id": "QCUYldXK40Xz"
      },
      "execution_count": null,
      "outputs": []
    },
    {
      "cell_type": "code",
      "source": [
        "# for dataset 1\n",
        "\n",
        "from sklearn.metrics import classification_report\n",
        "print(classification_report(test_labels, y_preds))"
      ],
      "metadata": {
        "id": "TIOinUnk48cP",
        "colab": {
          "base_uri": "https://localhost:8080/"
        },
        "outputId": "24da870a-db39-4efa-c5f3-ebf40e426db2"
      },
      "execution_count": null,
      "outputs": [
        {
          "output_type": "stream",
          "name": "stdout",
          "text": [
            "              precision    recall  f1-score   support\n",
            "\n",
            "           0       0.88      0.98      0.92        81\n",
            "           1       0.99      0.92      0.95       145\n",
            "\n",
            "    accuracy                           0.94       226\n",
            "   macro avg       0.93      0.95      0.94       226\n",
            "weighted avg       0.95      0.94      0.94       226\n",
            "\n"
          ]
        }
      ]
    },
    {
      "cell_type": "code",
      "source": [
        "# for dataset 2\n",
        "\n",
        "from sklearn.metrics import classification_report\n",
        "print(classification_report(test_labels, y_preds))"
      ],
      "metadata": {
        "id": "EcneUPlp49e1",
        "colab": {
          "base_uri": "https://localhost:8080/"
        },
        "outputId": "68607a6f-7960-4dc3-95d3-9372655afd0f"
      },
      "execution_count": null,
      "outputs": [
        {
          "output_type": "stream",
          "name": "stdout",
          "text": [
            "              precision    recall  f1-score   support\n",
            "\n",
            "           0       0.91      0.97      0.94       724\n",
            "           1       0.99      0.96      0.98      2039\n",
            "\n",
            "    accuracy                           0.97      2763\n",
            "   macro avg       0.95      0.97      0.96      2763\n",
            "weighted avg       0.97      0.97      0.97      2763\n",
            "\n"
          ]
        }
      ]
    },
    {
      "cell_type": "code",
      "source": [
        ""
      ],
      "metadata": {
        "id": "i-LL0In5DIZV"
      },
      "execution_count": null,
      "outputs": []
    }
  ],
  "metadata": {
    "accelerator": "GPU",
    "colab": {
      "name": "VGG16.ipynb",
      "provenance": [],
      "collapsed_sections": []
    },
    "gpuClass": "standard",
    "kernelspec": {
      "display_name": "Python 3",
      "name": "python3"
    },
    "language_info": {
      "name": "python"
    }
  },
  "nbformat": 4,
  "nbformat_minor": 0
}